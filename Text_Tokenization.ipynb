{
  "nbformat": 4,
  "nbformat_minor": 0,
  "metadata": {
    "colab": {
      "name": "Text Tokenization.ipynb",
      "provenance": [],
      "authorship_tag": "ABX9TyPiAUsmDJpO5DevbPj1qvX/",
      "include_colab_link": true
    },
    "kernelspec": {
      "name": "python3",
      "display_name": "Python 3"
    },
    "language_info": {
      "name": "python"
    }
  },
  "cells": [
    {
      "cell_type": "markdown",
      "metadata": {
        "id": "view-in-github",
        "colab_type": "text"
      },
      "source": [
        "<a href=\"https://colab.research.google.com/github/maheshravuri/ML/blob/main/Text_Tokenization.ipynb\" target=\"_parent\"><img src=\"https://colab.research.google.com/assets/colab-badge.svg\" alt=\"Open In Colab\"/></a>"
      ]
    },
    {
      "cell_type": "markdown",
      "source": [
        "Text Tokenization using split() method\n"
      ],
      "metadata": {
        "id": "fAMp15Mq5M8u"
      }
    },
    {
      "cell_type": "code",
      "source": [
        "#word tokenization\n",
        "text='''Once there lived a greedy man in a small town. He was very rich, and he loved gold and all things Tancy. But he loved his daughter more than anything. One day, he chanced upon a Tatry. The Tatry's hair was caught in a few tree branches. He helped her aut, but as Nts greediness took over, he realised that he had an opportunity to become richer by asking for a wish in return (by helping her out). The fairy granted hue a wish. He said, \"ALL that I touch should turn to gold.\" And his wish was granted by the grateful fairy.'''\n",
        "tokens = text.split()\n",
        "print(tokens)\n",
        "print(\"number of tokens :\",len(tokens))"
      ],
      "metadata": {
        "colab": {
          "base_uri": "https://localhost:8080/"
        },
        "id": "1mN1Z2yI5SB2",
        "outputId": "864c3133-1812-4f36-a77b-6f6dfd07def8"
      },
      "execution_count": 6,
      "outputs": [
        {
          "output_type": "stream",
          "name": "stdout",
          "text": [
            "['Once', 'there', 'lived', 'a', 'greedy', 'man', 'in', 'a', 'small', 'town.', 'He', 'was', 'very', 'rich,', 'and', 'he', 'loved', 'gold', 'and', 'all', 'things', 'Tancy.', 'But', 'he', 'loved', 'his', 'daughter', 'more', 'than', 'anything.', 'One', 'day,', 'he', 'chanced', 'upon', 'a', 'Tatry.', 'The', \"Tatry's\", 'hair', 'was', 'caught', 'in', 'a', 'few', 'tree', 'branches.', 'He', 'helped', 'her', 'aut,', 'but', 'as', 'Nts', 'greediness', 'took', 'over,', 'he', 'realised', 'that', 'he', 'had', 'an', 'opportunity', 'to', 'become', 'richer', 'by', 'asking', 'for', 'a', 'wish', 'in', 'return', '(by', 'helping', 'her', 'out).', 'The', 'fairy', 'granted', 'hue', 'a', 'wish.', 'He', 'said,', '\"ALL', 'that', 'I', 'touch', 'should', 'turn', 'to', 'gold.\"', 'And', 'his', 'wish', 'was', 'granted', 'by', 'the', 'grateful', 'fairy.']\n",
            "number of tokens : 103\n"
          ]
        }
      ]
    },
    {
      "cell_type": "code",
      "source": [
        "#sentence tokenization\n",
        "text='''Once there lived a greedy man in a small town. He was very rich, and he loved gold and all things Tancy. But he loved his daughter more than anything. One day, he chanced upon a Tatry. The Tatry's hair was caught in a few tree branches. He helped her aut, but as Nts greediness took over, he realised that he had an opportunity to become richer by asking for a wish in return (by helping her out). The fairy granted hue a wish. He said, \"ALL that I touch should turn to gold.\" And his wish was granted by the grateful fairy.'''\n",
        "sentences = text.split('.')\n",
        "print(sentences)\n",
        "print(\"number of sentences :\",len(sentences))"
      ],
      "metadata": {
        "colab": {
          "base_uri": "https://localhost:8080/"
        },
        "id": "i_8O7mGF_XWM",
        "outputId": "6e2ce7c7-17e2-44ed-b8c8-fcce5e3b46b7"
      },
      "execution_count": 7,
      "outputs": [
        {
          "output_type": "stream",
          "name": "stdout",
          "text": [
            "['Once there lived a greedy man in a small town', ' He was very rich, and he loved gold and all things Tancy', ' But he loved his daughter more than anything', ' One day, he chanced upon a Tatry', \" The Tatry's hair was caught in a few tree branches\", ' He helped her aut, but as Nts greediness took over, he realised that he had an opportunity to become richer by asking for a wish in return (by helping her out)', ' The fairy granted hue a wish', ' He said, \"ALL that I touch should turn to gold', '\" And his wish was granted by the grateful fairy', '']\n",
            "number of sentences : 10\n"
          ]
        }
      ]
    },
    {
      "cell_type": "markdown",
      "source": [
        "Text Tokenization using Regular Expressions(RegEx) "
      ],
      "metadata": {
        "id": "2E50c9va_0ci"
      }
    },
    {
      "cell_type": "code",
      "source": [
        "import re"
      ],
      "metadata": {
        "id": "V3d4uoWVBnJT"
      },
      "execution_count": null,
      "outputs": []
    },
    {
      "cell_type": "code",
      "source": [
        "#word tokenization\n",
        "tokens = re.findall(\"[\\w']+\", text)  \n",
        "print(tokens)\n",
        "print(\"No.of tokens : \", len(tokens))"
      ],
      "metadata": {
        "colab": {
          "base_uri": "https://localhost:8080/"
        },
        "id": "rpUo3MTCBqAK",
        "outputId": "01c8b161-4f66-4efe-e817-7c0ba6e98eb7"
      },
      "execution_count": 9,
      "outputs": [
        {
          "output_type": "stream",
          "name": "stdout",
          "text": [
            "['Once', 'there', 'lived', 'a', 'greedy', 'man', 'in', 'a', 'small', 'town', 'He', 'was', 'very', 'rich', 'and', 'he', 'loved', 'gold', 'and', 'all', 'things', 'Tancy', 'But', 'he', 'loved', 'his', 'daughter', 'more', 'than', 'anything', 'One', 'day', 'he', 'chanced', 'upon', 'a', 'Tatry', 'The', \"Tatry's\", 'hair', 'was', 'caught', 'in', 'a', 'few', 'tree', 'branches', 'He', 'helped', 'her', 'aut', 'but', 'as', 'Nts', 'greediness', 'took', 'over', 'he', 'realised', 'that', 'he', 'had', 'an', 'opportunity', 'to', 'become', 'richer', 'by', 'asking', 'for', 'a', 'wish', 'in', 'return', 'by', 'helping', 'her', 'out', 'The', 'fairy', 'granted', 'hue', 'a', 'wish', 'He', 'said', 'ALL', 'that', 'I', 'touch', 'should', 'turn', 'to', 'gold', 'And', 'his', 'wish', 'was', 'granted', 'by', 'the', 'grateful', 'fairy']\n",
            "No.of tokens :  103\n"
          ]
        }
      ]
    },
    {
      "cell_type": "code",
      "source": [
        "#sentence tokenization\n",
        "sentences = re.compile('[.?!] ').split(text)\n",
        "print(sentences)\n",
        "print(\"No.of sentences : \", len(sentences))"
      ],
      "metadata": {
        "colab": {
          "base_uri": "https://localhost:8080/"
        },
        "id": "73cDfA5YBrg4",
        "outputId": "59c81297-ad40-474f-f0be-1f109c9cc8d3"
      },
      "execution_count": 10,
      "outputs": [
        {
          "output_type": "stream",
          "name": "stdout",
          "text": [
            "['Once there lived a greedy man in a small town', 'He was very rich, and he loved gold and all things Tancy', 'But he loved his daughter more than anything', 'One day, he chanced upon a Tatry', \"The Tatry's hair was caught in a few tree branches\", 'He helped her aut, but as Nts greediness took over, he realised that he had an opportunity to become richer by asking for a wish in return (by helping her out)', 'The fairy granted hue a wish', 'He said, \"ALL that I touch should turn to gold.\" And his wish was granted by the grateful fairy.']\n",
            "No.of sentences :  8\n"
          ]
        }
      ]
    },
    {
      "cell_type": "markdown",
      "source": [
        "Tokenization using NLTK"
      ],
      "metadata": {
        "id": "ig1TIS7wCCaf"
      }
    },
    {
      "cell_type": "code",
      "source": [
        "import nltk\n",
        "nltk.download(\"punkt\")"
      ],
      "metadata": {
        "colab": {
          "base_uri": "https://localhost:8080/"
        },
        "id": "eFnQ3ZY1CDlM",
        "outputId": "58b00331-e194-4dc2-f64a-0fcea27bac0a"
      },
      "execution_count": 11,
      "outputs": [
        {
          "output_type": "stream",
          "name": "stderr",
          "text": [
            "[nltk_data] Downloading package punkt to /root/nltk_data...\n",
            "[nltk_data]   Unzipping tokenizers/punkt.zip.\n"
          ]
        },
        {
          "output_type": "execute_result",
          "data": {
            "text/plain": [
              "True"
            ]
          },
          "metadata": {},
          "execution_count": 11
        }
      ]
    },
    {
      "cell_type": "code",
      "source": [
        "#word tokenization\n",
        "from nltk.tokenize import word_tokenize \n",
        "tokens = word_tokenize(text)\n",
        "print(tokens)\n",
        "print(\"No.of tokens : \", len(tokens))"
      ],
      "metadata": {
        "colab": {
          "base_uri": "https://localhost:8080/"
        },
        "id": "uaTvPHr5CSI4",
        "outputId": "9377d153-b806-4d8e-9b3e-e1e1b6ba6b4e"
      },
      "execution_count": 12,
      "outputs": [
        {
          "output_type": "stream",
          "name": "stdout",
          "text": [
            "['Once', 'there', 'lived', 'a', 'greedy', 'man', 'in', 'a', 'small', 'town', '.', 'He', 'was', 'very', 'rich', ',', 'and', 'he', 'loved', 'gold', 'and', 'all', 'things', 'Tancy', '.', 'But', 'he', 'loved', 'his', 'daughter', 'more', 'than', 'anything', '.', 'One', 'day', ',', 'he', 'chanced', 'upon', 'a', 'Tatry', '.', 'The', 'Tatry', \"'s\", 'hair', 'was', 'caught', 'in', 'a', 'few', 'tree', 'branches', '.', 'He', 'helped', 'her', 'aut', ',', 'but', 'as', 'Nts', 'greediness', 'took', 'over', ',', 'he', 'realised', 'that', 'he', 'had', 'an', 'opportunity', 'to', 'become', 'richer', 'by', 'asking', 'for', 'a', 'wish', 'in', 'return', '(', 'by', 'helping', 'her', 'out', ')', '.', 'The', 'fairy', 'granted', 'hue', 'a', 'wish', '.', 'He', 'said', ',', '``', 'ALL', 'that', 'I', 'touch', 'should', 'turn', 'to', 'gold', '.', \"''\", 'And', 'his', 'wish', 'was', 'granted', 'by', 'the', 'grateful', 'fairy', '.']\n",
            "No.of tokens :  122\n"
          ]
        }
      ]
    },
    {
      "cell_type": "code",
      "source": [
        "#sentence tokenization\n",
        "from nltk.tokenize import sent_tokenize\n",
        "sentences = sent_tokenize(text)\n",
        "print(sentences)\n",
        "print(\"No.of sentences : \", len(sentences))"
      ],
      "metadata": {
        "colab": {
          "base_uri": "https://localhost:8080/"
        },
        "id": "-RrXpTgGCWgN",
        "outputId": "7e42d0f2-50cd-48c6-f88b-c85ce784eb1d"
      },
      "execution_count": 13,
      "outputs": [
        {
          "output_type": "stream",
          "name": "stdout",
          "text": [
            "['Once there lived a greedy man in a small town.', 'He was very rich, and he loved gold and all things Tancy.', 'But he loved his daughter more than anything.', 'One day, he chanced upon a Tatry.', \"The Tatry's hair was caught in a few tree branches.\", 'He helped her aut, but as Nts greediness took over, he realised that he had an opportunity to become richer by asking for a wish in return (by helping her out).', 'The fairy granted hue a wish.', 'He said, \"ALL that I touch should turn to gold.\"', 'And his wish was granted by the grateful fairy.']\n",
            "No.of sentences :  9\n"
          ]
        }
      ]
    }
  ]
}