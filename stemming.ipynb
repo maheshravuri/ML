{
  "nbformat": 4,
  "nbformat_minor": 0,
  "metadata": {
    "colab": {
      "name": "stemming.ipynb",
      "provenance": [],
      "authorship_tag": "ABX9TyNxJokRAzNxs5NBj2GmvGac",
      "include_colab_link": true
    },
    "kernelspec": {
      "name": "python3",
      "display_name": "Python 3"
    },
    "language_info": {
      "name": "python"
    }
  },
  "cells": [
    {
      "cell_type": "markdown",
      "metadata": {
        "id": "view-in-github",
        "colab_type": "text"
      },
      "source": [
        "<a href=\"https://colab.research.google.com/github/maheshravuri/ML/blob/main/stemming.ipynb\" target=\"_parent\"><img src=\"https://colab.research.google.com/assets/colab-badge.svg\" alt=\"Open In Colab\"/></a>"
      ]
    },
    {
      "cell_type": "code",
      "source": [
        "import nltk\n",
        "\n",
        "nltk.download(\"punkt\")\n",
        "\n",
        "from nltk import PorterStemmer\n",
        "from nltk import word_tokenize\n",
        "\n",
        "porter = PorterStemmer()\n",
        "\n",
        "sentence = \"Pythoners are very intelligent and work very pythonly and now they are pythoning their way to success.\" \n",
        "def stemsentence(sentence):\n",
        "  word_tokens = word_tokenize(sentence)\n",
        "  print(word_tokens)\n",
        "  stem_sentence=[]\n",
        "  for word in word_tokens:\n",
        "    stem_sentence.append(porter.stem(word))\n",
        "  return \" \".join(stem_sentence)\n",
        "print(\"sentence after stemming :\",stemsentence(sentence))\n"
      ],
      "metadata": {
        "colab": {
          "base_uri": "https://localhost:8080/"
        },
        "id": "eks3-0E7ViL3",
        "outputId": "7df2ee68-8e41-46f4-ed72-1f3e31c3c8e7"
      },
      "execution_count": 19,
      "outputs": [
        {
          "output_type": "stream",
          "name": "stdout",
          "text": [
            "['Pythoners', 'are', 'very', 'intelligent', 'and', 'work', 'very', 'pythonly', 'and', 'now', 'they', 'are', 'pythoning', 'their', 'way', 'to', 'success', '.']\n",
            "sentence after stemming : python are veri intellig and work veri pythonli and now they are python their way to success .\n"
          ]
        },
        {
          "output_type": "stream",
          "name": "stderr",
          "text": [
            "[nltk_data] Downloading package punkt to /root/nltk_data...\n",
            "[nltk_data]   Package punkt is already up-to-date!\n"
          ]
        }
      ]
    }
  ]
}